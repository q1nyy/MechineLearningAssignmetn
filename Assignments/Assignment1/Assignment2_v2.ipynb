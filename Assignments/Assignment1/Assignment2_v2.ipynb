{
 "cells": [
  {
   "cell_type": "code",
   "execution_count": 130,
   "metadata": {},
   "outputs": [
    {
     "data": {
      "text/html": [
       "<div>\n",
       "<style scoped>\n",
       "    .dataframe tbody tr th:only-of-type {\n",
       "        vertical-align: middle;\n",
       "    }\n",
       "\n",
       "    .dataframe tbody tr th {\n",
       "        vertical-align: top;\n",
       "    }\n",
       "\n",
       "    .dataframe thead th {\n",
       "        text-align: right;\n",
       "    }\n",
       "</style>\n",
       "<table border=\"1\" class=\"dataframe\">\n",
       "  <thead>\n",
       "    <tr style=\"text-align: right;\">\n",
       "      <th></th>\n",
       "      <th>Deceased</th>\n",
       "      <th>Glucose</th>\n",
       "      <th>Urea</th>\n",
       "      <th>Creatinine</th>\n",
       "      <th>Sodium</th>\n",
       "      <th>Potassium</th>\n",
       "      <th>TB</th>\n",
       "      <th>DB</th>\n",
       "      <th>ALT</th>\n",
       "      <th>AST</th>\n",
       "      <th>ALP</th>\n",
       "      <th>Hemoglobin</th>\n",
       "      <th>WBC</th>\n",
       "      <th>Platelet</th>\n",
       "    </tr>\n",
       "  </thead>\n",
       "  <tbody>\n",
       "    <tr>\n",
       "      <th>0</th>\n",
       "      <td>0.0</td>\n",
       "      <td>68.0</td>\n",
       "      <td>52.0</td>\n",
       "      <td>2.00</td>\n",
       "      <td>145.0</td>\n",
       "      <td>4.00</td>\n",
       "      <td>0.90</td>\n",
       "      <td>0.3</td>\n",
       "      <td>200.0</td>\n",
       "      <td>52.0</td>\n",
       "      <td>460.0</td>\n",
       "      <td>13.68</td>\n",
       "      <td>23500.0</td>\n",
       "      <td>243000.0</td>\n",
       "    </tr>\n",
       "    <tr>\n",
       "      <th>1</th>\n",
       "      <td>1.0</td>\n",
       "      <td>450.0</td>\n",
       "      <td>240.0</td>\n",
       "      <td>3.80</td>\n",
       "      <td>150.0</td>\n",
       "      <td>5.50</td>\n",
       "      <td>1.20</td>\n",
       "      <td>0.4</td>\n",
       "      <td>198.0</td>\n",
       "      <td>179.0</td>\n",
       "      <td>114.0</td>\n",
       "      <td>12.92</td>\n",
       "      <td>8800.0</td>\n",
       "      <td>76000.0</td>\n",
       "    </tr>\n",
       "    <tr>\n",
       "      <th>2</th>\n",
       "      <td>0.0</td>\n",
       "      <td>128.0</td>\n",
       "      <td>23.0</td>\n",
       "      <td>1.08</td>\n",
       "      <td>140.0</td>\n",
       "      <td>4.00</td>\n",
       "      <td>0.91</td>\n",
       "      <td>0.2</td>\n",
       "      <td>65.0</td>\n",
       "      <td>127.0</td>\n",
       "      <td>167.0</td>\n",
       "      <td>14.80</td>\n",
       "      <td>11100.0</td>\n",
       "      <td>250000.0</td>\n",
       "    </tr>\n",
       "    <tr>\n",
       "      <th>3</th>\n",
       "      <td>0.0</td>\n",
       "      <td>128.0</td>\n",
       "      <td>178.0</td>\n",
       "      <td>2.40</td>\n",
       "      <td>129.0</td>\n",
       "      <td>4.80</td>\n",
       "      <td>1.20</td>\n",
       "      <td>0.4</td>\n",
       "      <td>200.0</td>\n",
       "      <td>370.0</td>\n",
       "      <td>84.0</td>\n",
       "      <td>9.30</td>\n",
       "      <td>8500.0</td>\n",
       "      <td>56000.0</td>\n",
       "    </tr>\n",
       "    <tr>\n",
       "      <th>4</th>\n",
       "      <td>0.0</td>\n",
       "      <td>95.0</td>\n",
       "      <td>83.0</td>\n",
       "      <td>1.00</td>\n",
       "      <td>148.0</td>\n",
       "      <td>3.96</td>\n",
       "      <td>1.02</td>\n",
       "      <td>0.3</td>\n",
       "      <td>45.0</td>\n",
       "      <td>50.0</td>\n",
       "      <td>75.0</td>\n",
       "      <td>16.00</td>\n",
       "      <td>16800.0</td>\n",
       "      <td>311000.0</td>\n",
       "    </tr>\n",
       "  </tbody>\n",
       "</table>\n",
       "</div>"
      ],
      "text/plain": [
       "   Deceased  Glucose   Urea  Creatinine  Sodium  Potassium    TB   DB    ALT  \\\n",
       "0       0.0     68.0   52.0        2.00   145.0       4.00  0.90  0.3  200.0   \n",
       "1       1.0    450.0  240.0        3.80   150.0       5.50  1.20  0.4  198.0   \n",
       "2       0.0    128.0   23.0        1.08   140.0       4.00  0.91  0.2   65.0   \n",
       "3       0.0    128.0  178.0        2.40   129.0       4.80  1.20  0.4  200.0   \n",
       "4       0.0     95.0   83.0        1.00   148.0       3.96  1.02  0.3   45.0   \n",
       "\n",
       "     AST    ALP  Hemoglobin      WBC  Platelet  \n",
       "0   52.0  460.0       13.68  23500.0  243000.0  \n",
       "1  179.0  114.0       12.92   8800.0   76000.0  \n",
       "2  127.0  167.0       14.80  11100.0  250000.0  \n",
       "3  370.0   84.0        9.30   8500.0   56000.0  \n",
       "4   50.0   75.0       16.00  16800.0  311000.0  "
      ]
     },
     "execution_count": 130,
     "metadata": {},
     "output_type": "execute_result"
    }
   ],
   "source": [
    "import pandas as pd\n",
    "\n",
    "data = pd.read_csv(r'C:\\Users\\qyypy\\Desktop\\机器学习综合实践\\Assignments\\PrepecessedDataSheet2.csv')\n",
    "data.head()"
   ]
  },
  {
   "cell_type": "code",
   "execution_count": 131,
   "metadata": {},
   "outputs": [],
   "source": [
    "# 删除缺失率过高的变量\n",
    "def filter_nan(data, narate = 0.2):\n",
    "    n_samples = data.shape[0]\n",
    "    list_nan_cols = []\n",
    "    \n",
    "    for col in data.columns:\n",
    "        if data[col].isna().sum() / n_samples >= (narate):\n",
    "            list_nan_cols.append(col)\n",
    "    \n",
    "    print(f'缺失量在{narate * 100}%以上的变量有:{list_nan_cols}')\n",
    "\n",
    "    return list_nan_cols"
   ]
  },
  {
   "cell_type": "code",
   "execution_count": 132,
   "metadata": {},
   "outputs": [
    {
     "name": "stdout",
     "output_type": "stream",
     "text": [
      "缺失量在20.0%以上的变量有:[]\n"
     ]
    },
    {
     "data": {
      "text/html": [
       "<div>\n",
       "<style scoped>\n",
       "    .dataframe tbody tr th:only-of-type {\n",
       "        vertical-align: middle;\n",
       "    }\n",
       "\n",
       "    .dataframe tbody tr th {\n",
       "        vertical-align: top;\n",
       "    }\n",
       "\n",
       "    .dataframe thead th {\n",
       "        text-align: right;\n",
       "    }\n",
       "</style>\n",
       "<table border=\"1\" class=\"dataframe\">\n",
       "  <thead>\n",
       "    <tr style=\"text-align: right;\">\n",
       "      <th></th>\n",
       "      <th>Deceased</th>\n",
       "      <th>Glucose</th>\n",
       "      <th>Urea</th>\n",
       "      <th>Creatinine</th>\n",
       "      <th>Sodium</th>\n",
       "      <th>Potassium</th>\n",
       "      <th>TB</th>\n",
       "      <th>DB</th>\n",
       "      <th>ALT</th>\n",
       "      <th>AST</th>\n",
       "      <th>ALP</th>\n",
       "      <th>Hemoglobin</th>\n",
       "      <th>WBC</th>\n",
       "      <th>Platelet</th>\n",
       "    </tr>\n",
       "  </thead>\n",
       "  <tbody>\n",
       "    <tr>\n",
       "      <th>0</th>\n",
       "      <td>0.0</td>\n",
       "      <td>68.0</td>\n",
       "      <td>52.0</td>\n",
       "      <td>2.00</td>\n",
       "      <td>145.0</td>\n",
       "      <td>4.00</td>\n",
       "      <td>0.90</td>\n",
       "      <td>0.3</td>\n",
       "      <td>200.0</td>\n",
       "      <td>52.0</td>\n",
       "      <td>460.0</td>\n",
       "      <td>13.68</td>\n",
       "      <td>23500.0</td>\n",
       "      <td>243000.0</td>\n",
       "    </tr>\n",
       "    <tr>\n",
       "      <th>1</th>\n",
       "      <td>1.0</td>\n",
       "      <td>450.0</td>\n",
       "      <td>240.0</td>\n",
       "      <td>3.80</td>\n",
       "      <td>150.0</td>\n",
       "      <td>5.50</td>\n",
       "      <td>1.20</td>\n",
       "      <td>0.4</td>\n",
       "      <td>198.0</td>\n",
       "      <td>179.0</td>\n",
       "      <td>114.0</td>\n",
       "      <td>12.92</td>\n",
       "      <td>8800.0</td>\n",
       "      <td>76000.0</td>\n",
       "    </tr>\n",
       "    <tr>\n",
       "      <th>2</th>\n",
       "      <td>0.0</td>\n",
       "      <td>128.0</td>\n",
       "      <td>23.0</td>\n",
       "      <td>1.08</td>\n",
       "      <td>140.0</td>\n",
       "      <td>4.00</td>\n",
       "      <td>0.91</td>\n",
       "      <td>0.2</td>\n",
       "      <td>65.0</td>\n",
       "      <td>127.0</td>\n",
       "      <td>167.0</td>\n",
       "      <td>14.80</td>\n",
       "      <td>11100.0</td>\n",
       "      <td>250000.0</td>\n",
       "    </tr>\n",
       "    <tr>\n",
       "      <th>3</th>\n",
       "      <td>0.0</td>\n",
       "      <td>128.0</td>\n",
       "      <td>178.0</td>\n",
       "      <td>2.40</td>\n",
       "      <td>129.0</td>\n",
       "      <td>4.80</td>\n",
       "      <td>1.20</td>\n",
       "      <td>0.4</td>\n",
       "      <td>200.0</td>\n",
       "      <td>370.0</td>\n",
       "      <td>84.0</td>\n",
       "      <td>9.30</td>\n",
       "      <td>8500.0</td>\n",
       "      <td>56000.0</td>\n",
       "    </tr>\n",
       "    <tr>\n",
       "      <th>4</th>\n",
       "      <td>0.0</td>\n",
       "      <td>95.0</td>\n",
       "      <td>83.0</td>\n",
       "      <td>1.00</td>\n",
       "      <td>148.0</td>\n",
       "      <td>3.96</td>\n",
       "      <td>1.02</td>\n",
       "      <td>0.3</td>\n",
       "      <td>45.0</td>\n",
       "      <td>50.0</td>\n",
       "      <td>75.0</td>\n",
       "      <td>16.00</td>\n",
       "      <td>16800.0</td>\n",
       "      <td>311000.0</td>\n",
       "    </tr>\n",
       "  </tbody>\n",
       "</table>\n",
       "</div>"
      ],
      "text/plain": [
       "   Deceased  Glucose   Urea  Creatinine  Sodium  Potassium    TB   DB    ALT  \\\n",
       "0       0.0     68.0   52.0        2.00   145.0       4.00  0.90  0.3  200.0   \n",
       "1       1.0    450.0  240.0        3.80   150.0       5.50  1.20  0.4  198.0   \n",
       "2       0.0    128.0   23.0        1.08   140.0       4.00  0.91  0.2   65.0   \n",
       "3       0.0    128.0  178.0        2.40   129.0       4.80  1.20  0.4  200.0   \n",
       "4       0.0     95.0   83.0        1.00   148.0       3.96  1.02  0.3   45.0   \n",
       "\n",
       "     AST    ALP  Hemoglobin      WBC  Platelet  \n",
       "0   52.0  460.0       13.68  23500.0  243000.0  \n",
       "1  179.0  114.0       12.92   8800.0   76000.0  \n",
       "2  127.0  167.0       14.80  11100.0  250000.0  \n",
       "3  370.0   84.0        9.30   8500.0   56000.0  \n",
       "4   50.0   75.0       16.00  16800.0  311000.0  "
      ]
     },
     "execution_count": 132,
     "metadata": {},
     "output_type": "execute_result"
    }
   ],
   "source": [
    "list_nullfactor_todrop = filter_nan(data, narate=0.2)\n",
    "\n",
    "data_select = data.drop(list_nullfactor_todrop, axis = 1).copy()\n",
    "data_select.head()"
   ]
  },
  {
   "cell_type": "code",
   "execution_count": 133,
   "metadata": {},
   "outputs": [
    {
     "data": {
      "text/plain": [
       "(985, 14)"
      ]
     },
     "execution_count": 133,
     "metadata": {},
     "output_type": "execute_result"
    }
   ],
   "source": [
    "data.shape"
   ]
  },
  {
   "cell_type": "code",
   "execution_count": 134,
   "metadata": {},
   "outputs": [],
   "source": [
    "from sklearn.model_selection import train_test_split\n",
    "# 选择特征和标签\n",
    "X = data.drop(columns=['Deceased'])\n",
    "y = data['Deceased']\n",
    "\n",
    "# 将数据集划分为训练集和验证集\n",
    "X_train, X_test, y_train, y_test = train_test_split(X, y, test_size=0.2,random_state=42)"
   ]
  },
  {
   "cell_type": "code",
   "execution_count": 135,
   "metadata": {},
   "outputs": [
    {
     "name": "stdout",
     "output_type": "stream",
     "text": [
      "MAE: 0.09663028764805416\n",
      "RMSE: 0.20553195703780516\n"
     ]
    }
   ],
   "source": [
    "\n",
    "import numpy as np\n",
    "from sklearn.tree import DecisionTreeRegressor\n",
    "from sklearn.metrics import classification_report, confusion_matrix\n",
    "from sklearn.ensemble import RandomForestClassifier, RandomForestRegressor\n",
    "from sklearn.datasets import make_classification\n",
    "from sklearn.metrics import mean_absolute_error, mean_squared_error\n",
    "\n",
    "RFR = RandomForestRegressor()\n",
    "RFR.fit(X_train, y_train)\n",
    "\n",
    "# 预测\n",
    "y_pred = RFR.predict(X_test)\n",
    "\n",
    "print(f'MAE:',mean_absolute_error(y_pred, y_test))\n",
    "print(f'RMSE:',np.sqrt(mean_squared_error(y_test, y_pred)) )\n",
    "\n"
   ]
  },
  {
   "cell_type": "code",
   "execution_count": 136,
   "metadata": {},
   "outputs": [
    {
     "data": {
      "text/plain": [
       "array([0. , 0. , 0. , 0. , 0.1, 0.1, 0. , 0.2, 0. , 0. , 0.1, 0. , 0. ,\n",
       "       0.2, 0. , 0.2, 0. , 0. , 0. , 0.2, 0. , 0.2, 0. , 0.6, 0. , 0.2,\n",
       "       0. , 0. , 0.2, 0.4, 0.1, 0.5, 0. , 0. , 0. , 0. , 0.2, 0.1, 0.2,\n",
       "       0. , 0.1, 0. , 0. , 0.1, 0. , 0. , 0. , 0.1, 0. , 0. , 0.1, 0. ,\n",
       "       0. , 0. , 0. , 0. , 0. , 0.1, 0.2, 0. , 0. , 0.1, 0.5, 0.4, 0.3,\n",
       "       0.3, 0. , 0. , 0.2, 0. , 0. , 0.1, 0. , 0. , 0.5, 0.3, 0.2, 0. ,\n",
       "       0. , 0.3, 0. , 0. , 0. , 0. , 0.1, 0. , 0.1, 0. , 0.1, 0. , 0. ,\n",
       "       0.1, 0. , 0.2, 0.1, 0. , 0. , 0. , 0. , 0. , 0.4, 0. , 0.1, 0. ,\n",
       "       0.3, 0. , 0. , 0. , 0. , 0.1, 0.1, 0. , 0. , 0.1, 0.3, 0.1, 0.3,\n",
       "       0. , 0. , 0.3, 0.2, 0. , 0.2, 0. , 0. , 0. , 0. , 0.1, 0.1, 0.1,\n",
       "       0. , 0. , 0. , 0. , 0. , 0.2, 0. , 0. , 0. , 0. , 0. , 0. , 0. ,\n",
       "       0. , 0. , 0.1, 0. , 0.3, 0. , 0. , 0. , 0. , 0. , 0. , 0.1, 0.1,\n",
       "       0. , 0. , 0. , 0.3, 0. , 0.5, 0. , 0. , 0. , 0. , 0. , 0. , 0. ,\n",
       "       0.1, 0. , 0. , 0.2, 0.3, 0.1, 0. , 0.1, 0. , 0. , 0. , 0. , 0. ,\n",
       "       0. , 0. , 0. , 0. , 0. , 0. , 0. , 0.2, 0. , 0. , 0.1, 0. , 0.1,\n",
       "       0.1, 0. ])"
      ]
     },
     "execution_count": 136,
     "metadata": {},
     "output_type": "execute_result"
    }
   ],
   "source": [
    "np.round(y_pred, decimals=1)"
   ]
  },
  {
   "cell_type": "code",
   "execution_count": 137,
   "metadata": {},
   "outputs": [
    {
     "data": {
      "text/plain": [
       "['C:\\\\Users\\\\qyypy\\\\Desktop\\\\机器学习综合实践\\\\Save_Model\\\\RFR.pkl']"
      ]
     },
     "execution_count": 137,
     "metadata": {},
     "output_type": "execute_result"
    }
   ],
   "source": [
    "import joblib\n",
    "\n",
    "joblib.dump(RFR, r'C:\\Users\\qyypy\\Desktop\\机器学习综合实践\\Save_Model\\RFR.pkl')"
   ]
  }
 ],
 "metadata": {
  "kernelspec": {
   "display_name": "pytorh",
   "language": "python",
   "name": "python3"
  },
  "language_info": {
   "codemirror_mode": {
    "name": "ipython",
    "version": 3
   },
   "file_extension": ".py",
   "mimetype": "text/x-python",
   "name": "python",
   "nbconvert_exporter": "python",
   "pygments_lexer": "ipython3",
   "version": "3.9.19"
  }
 },
 "nbformat": 4,
 "nbformat_minor": 2
}
