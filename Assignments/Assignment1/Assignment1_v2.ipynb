{
 "cells": [
  {
   "cell_type": "code",
   "execution_count": null,
   "metadata": {},
   "outputs": [],
   "source": [
    "import torch\n",
    "import torch.nn as nn\n",
    "import torch.optim as optim\n",
    "from sklearn.model_selection import train_test_split\n",
    "from sklearn.preprocessing import StandardScaler\n",
    "from sklearn.metrics import classification_report, confusion_matrix\n",
    "import numpy as np\n",
    "import pandas as pd\n",
    "\n",
    "# 1. 数据预处理\n",
    "# 读取数据\n",
    "data = pd.read_excel(r'C:\\Users\\qyypy\\Desktop\\机器学习综合实践\\Data\\dataSet1\\train.xlsx')\n"
   ]
  },
  {
   "cell_type": "code",
   "execution_count": null,
   "metadata": {},
   "outputs": [],
   "source": [
    "# 删除缺失率过高的变量\n",
    "def filter_nan(data, narate = 0.2):\n",
    "    n_samples = data.shape[0]\n",
    "    list_nan_cols = []\n",
    "    \n",
    "    for col in data.columns:\n",
    "        if data[col].isna().sum() / n_samples >= (narate):\n",
    "            list_nan_cols.append(col)\n",
    "    \n",
    "    print(f'缺失量在{narate * 100}%以上的变量有:{list_nan_cols}')\n",
    "\n",
    "    return list_nan_cols"
   ]
  },
  {
   "cell_type": "code",
   "execution_count": null,
   "metadata": {},
   "outputs": [],
   "source": [
    "list_nullfactor_todrop = filter_nan(data, narate=0.2)\n",
    "\n",
    "df = data.drop(list_nullfactor_todrop, axis = 1).copy()\n",
    "df = df.drop(columns='Patient Code')\n",
    "\n",
    "df['Group '] = df['Group '].apply(lambda x: 0 if x == 'Control' else 1)\n",
    "df.head()"
   ]
  },
  {
   "cell_type": "code",
   "execution_count": null,
   "metadata": {},
   "outputs": [],
   "source": [
    "# KNN处理缺失值\n",
    "from sklearn.impute import KNNImputer\n",
    "from sklearn.preprocessing import StandardScaler\n",
    "\n",
    "\n",
    "numerical_cols = df.select_dtypes(include=['float64']).columns\n",
    "\n",
    "scaler = StandardScaler()\n",
    "scaled_data = scaler.fit_transform(df[numerical_cols])\n",
    "\n",
    "knn_imputer = KNNImputer(n_neighbors=10)\n",
    "imputed_data = knn_imputer.fit_transform(scaled_data)\n",
    "\n",
    "imputed_data = scaler.inverse_transform(imputed_data)\n",
    "\n",
    "\n",
    "df[numerical_cols] = imputed_data\n",
    "df.info()\n",
    "# df.to_csv('dataset1_preprocessed.csv', index=False)"
   ]
  },
  {
   "cell_type": "code",
   "execution_count": null,
   "metadata": {},
   "outputs": [],
   "source": [
    "import torch\n",
    "import torch.nn as nn\n",
    "import torch.optim as optim\n",
    "from sklearn.model_selection import train_test_split\n",
    "from sklearn.preprocessing import StandardScaler\n",
    "from sklearn.metrics import classification_report, confusion_matrix\n",
    "import pandas as pd\n",
    "\n",
    "# 选择特征和标签\n",
    "X = df.drop(columns=['Group ']).copy()  # 确保没有多余的空格\n",
    "y = df['Group ']\n",
    "\n",
    "# 标准化数据\n",
    "scaler = StandardScaler()\n",
    "X_scaled = scaler.fit_transform(X)\n",
    "\n",
    "# 划分训练集和测试集\n",
    "X_train, X_test, y_train, y_test = train_test_split(X_scaled, y, test_size=0.2, random_state=0, stratify=y)\n",
    "\n",
    "# 转换为PyTorch张量\n",
    "X_train_tensor = torch.tensor(X_train, dtype=torch.float32)\n",
    "X_test_tensor = torch.tensor(X_test, dtype=torch.float32)\n",
    "y_train_tensor = torch.tensor(y_train.values, dtype=torch.long)\n",
    "y_test_tensor = torch.tensor(y_test.values, dtype=torch.long)\n",
    "\n",
    "# 2. 定义模型\n",
    "class DNNModel(nn.Module):\n",
    "    def __init__(self, input_size, hidden_size, output_size):\n",
    "        super(DNNModel, self).__init__()\n",
    "        self.fc1 = nn.Linear(input_size, hidden_size)\n",
    "        self.fc2 = nn.Linear(hidden_size, hidden_size)\n",
    "        self.fc3 = nn.Linear(hidden_size, hidden_size)\n",
    "        self.relu = nn.ReLU()\n",
    "\n",
    "    def forward(self, x):\n",
    "        x = self.relu(self.fc1(x))\n",
    "        x = self.relu(self.fc2(x))\n",
    "        x = self.fc3(x)\n",
    "        return x  \n",
    "\n",
    "input_size = X_train.shape[1]\n",
    "hidden_size = 64\n",
    "output_size = 2  # 二分类任务\n",
    "\n",
    "model = DNNModel(input_size, hidden_size, output_size)\n",
    "\n",
    "# 3. 定义损失函数和优化器\n",
    "criterion = nn.CrossEntropyLoss()\n",
    "optimizer = optim.Adam(model.parameters(), lr=0.001)\n",
    "\n",
    "# 4. 训练模型\n",
    "num_epochs = 2000\n",
    "for epoch in range(num_epochs):\n",
    "    model.train()\n",
    "    optimizer.zero_grad()\n",
    "    outputs = model(X_train_tensor)\n",
    "    loss = criterion(outputs, y_train_tensor)\n",
    "    loss.backward()\n",
    "    optimizer.step()\n",
    "    \n",
    "    if (epoch+1) % 5 == 0:\n",
    "        print(f'Epoch [{epoch+1}/{num_epochs}], Loss: {loss.item():.4f}')\n",
    "\n",
    "\n",
    "model.eval()\n",
    "with torch.no_grad():\n",
    "    outputs = model(X_test_tensor)\n",
    "    _, predicted = torch.max(outputs, 1)\n",
    "    y_pred = predicted.numpy()\n",
    "\n",
    "# 输出分类报告和混淆矩阵\n",
    "print(\"Classification Report:\\n\", classification_report(y_test, y_pred))\n",
    "print(\"Confusion Matrix:\\n\", confusion_matrix(y_test, y_pred))\n"
   ]
  },
  {
   "cell_type": "code",
   "execution_count": null,
   "metadata": {},
   "outputs": [],
   "source": [
    "torch.save(model, 'DNN.pt')"
   ]
  },
  {
   "cell_type": "code",
   "execution_count": null,
   "metadata": {},
   "outputs": [],
   "source": [
    "DNN = torch.load(r'C:\\Users\\qyypy\\Desktop\\机器学习综合实践\\Assignment\\DNN.pt')"
   ]
  },
  {
   "cell_type": "code",
   "execution_count": null,
   "metadata": {},
   "outputs": [],
   "source": [
    "data_test = pd.read_excel(r'C:\\Users\\qyypy\\Desktop\\机器学习综合实践\\Test\\Merge_Excel\\train.xlsx')\n",
    "data_test = data_test.drop(columns=['Total Protein', 'Albubin', 'Ferritin', 'PCT', 'IL-6', 'PT', 'Troponin', 'CPK-MB', 'LDH', 'Patient Code', 'Group '])\n",
    "data_test"
   ]
  },
  {
   "cell_type": "code",
   "execution_count": null,
   "metadata": {},
   "outputs": [],
   "source": [
    "# KNN处理缺失值\n",
    "from sklearn.impute import KNNImputer\n",
    "from sklearn.preprocessing import StandardScaler\n",
    "\n",
    "numerical_cols = data_test.select_dtypes(include=['float64', 'int64']).columns\n",
    "\n",
    "scaler = StandardScaler()\n",
    "scaled_data = scaler.fit_transform(data_test[numerical_cols])\n",
    "\n",
    "knn_imputer = KNNImputer(n_neighbors=8)\n",
    "imputed_data = knn_imputer.fit_transform(scaled_data)\n",
    "\n",
    "imputed_data = scaler.inverse_transform(imputed_data)\n",
    "\n",
    "\n",
    "data_test[numerical_cols] = imputed_data\n",
    "\n",
    "data_test"
   ]
  },
  {
   "cell_type": "code",
   "execution_count": null,
   "metadata": {},
   "outputs": [],
   "source": [
    "X1 = data_test[:][:456]\n",
    "X1"
   ]
  },
  {
   "cell_type": "code",
   "execution_count": null,
   "metadata": {},
   "outputs": [],
   "source": [
    "X_scaled = scaler.fit_transform(X1)\n",
    "X_scaled"
   ]
  },
  {
   "cell_type": "code",
   "execution_count": null,
   "metadata": {},
   "outputs": [],
   "source": [
    "Xpre = torch.tensor(X_scaled, dtype = torch.float32)\n",
    "Xpre.shape"
   ]
  },
  {
   "cell_type": "code",
   "execution_count": null,
   "metadata": {},
   "outputs": [],
   "source": [
    "DNN.eval()\n",
    "with torch.no_grad():\n",
    "    outputs = model(Xpre)\n",
    "    _, predicted = torch.max(outputs, 1)\n",
    "    ypre = predicted.numpy()\n",
    "\n",
    "ypre"
   ]
  },
  {
   "cell_type": "code",
   "execution_count": null,
   "metadata": {},
   "outputs": [],
   "source": [
    "ypre"
   ]
  },
  {
   "cell_type": "code",
   "execution_count": null,
   "metadata": {},
   "outputs": [],
   "source": [
    "ypre.reshape(-1,1)"
   ]
  },
  {
   "cell_type": "code",
   "execution_count": null,
   "metadata": {},
   "outputs": [],
   "source": [
    "df = pd.DataFrame({'id': [ i for i in range(1,457)], 'Group': ypre})\n",
    "df"
   ]
  },
  {
   "cell_type": "code",
   "execution_count": null,
   "metadata": {},
   "outputs": [],
   "source": [
    "df.to_csv('DNNprediction.csv',index = False)"
   ]
  },
  {
   "cell_type": "code",
   "execution_count": null,
   "metadata": {},
   "outputs": [],
   "source": []
  }
 ],
 "metadata": {
  "kernelspec": {
   "display_name": "pytorh",
   "language": "python",
   "name": "python3"
  },
  "language_info": {
   "codemirror_mode": {
    "name": "ipython",
    "version": 3
   },
   "file_extension": ".py",
   "mimetype": "text/x-python",
   "name": "python",
   "nbconvert_exporter": "python",
   "pygments_lexer": "ipython3",
   "version": "3.9.19"
  }
 },
 "nbformat": 4,
 "nbformat_minor": 2
}
